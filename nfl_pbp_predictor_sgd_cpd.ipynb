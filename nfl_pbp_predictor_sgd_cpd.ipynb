{
  "nbformat": 4,
  "nbformat_minor": 0,
  "metadata": {
    "colab": {
      "provenance": [],
      "authorship_tag": "ABX9TyNYFQ2oNmVN3VesEU92OfT7",
      "include_colab_link": true
    },
    "kernelspec": {
      "name": "python3",
      "display_name": "Python 3"
    },
    "language_info": {
      "name": "python"
    }
  },
  "cells": [
    {
      "cell_type": "markdown",
      "metadata": {
        "id": "view-in-github",
        "colab_type": "text"
      },
      "source": [
        "<a href=\"https://colab.research.google.com/github/the1quadfather/nfl_play_predictor/blob/main/nfl_pbp_predictor_sgd_cpd.ipynb\" target=\"_parent\"><img src=\"https://colab.research.google.com/assets/colab-badge.svg\" alt=\"Open In Colab\"/></a>"
      ]
    },
    {
      "cell_type": "code",
      "execution_count": 3,
      "metadata": {
        "colab": {
          "base_uri": "https://localhost:8080/"
        },
        "id": "UYm6MqRTiJpI",
        "outputId": "0b9e4337-082d-4341-d1df-2be151b36e7a"
      },
      "outputs": [
        {
          "name": "stdout",
          "output_type": "stream",
          "text": [
            "What Quarter is it? 3\n",
            "How many minutes are left in the quarter? 5\n",
            "How many seconds are left? 19\n",
            "What down is it? 4\n",
            "How many yards to a first down? 8\n",
            "Where is the ball (yds from the goal line, 0-100)? 55\n",
            "What team is on offense? (ex: LAC, TB) TB\n",
            "What team is on defense? (ex: SF, TEN) LA\n"
          ]
        },
        {
          "output_type": "stream",
          "name": "stderr",
          "text": [
            "/usr/local/lib/python3.10/dist-packages/sklearn/base.py:465: UserWarning: X does not have valid feature names, but StandardScaler was fitted with feature names\n",
            "  warnings.warn(\n"
          ]
        },
        {
          "name": "stdout",
          "output_type": "stream",
          "text": [
            "\n",
            "Thinking...\n",
            "\n",
            "Prediction: TB Special\n",
            "\n",
            "Would you like to play again? (y/n) y\n",
            "What Quarter is it? 1\n",
            "How many minutes are left in the quarter? 2\n",
            "How many seconds are left? 55\n",
            "What down is it? 1\n",
            "How many yards to a first down? 8\n",
            "Where is the ball (yds from the goal line, 0-100)? 33\n",
            "What team is on offense? (ex: LAC, TB) DEN\n",
            "What team is on defense? (ex: SF, TEN) LV\n"
          ]
        },
        {
          "output_type": "stream",
          "name": "stderr",
          "text": [
            "/usr/local/lib/python3.10/dist-packages/sklearn/base.py:465: UserWarning: X does not have valid feature names, but StandardScaler was fitted with feature names\n",
            "  warnings.warn(\n"
          ]
        },
        {
          "name": "stdout",
          "output_type": "stream",
          "text": [
            "\n",
            "Thinking...\n",
            "\n",
            "Prediction: DEN Pass\n",
            "\n",
            "Would you like to play again? (y/n) n\n"
          ]
        }
      ],
      "source": [
        "# NFL Play-by-Play Predictor\n",
        "# Utilizing saved SGD Classifier model\n",
        "import joblib\n",
        "path = input(\"What is the path to the joblib model checkpoint: \")\n",
        "clf = joblib.load(path)\n",
        "\n",
        "# Play-by-play predictor\n",
        "def play_predictor():\n",
        "  year = 2023\n",
        "  qtr = input(\"What Quarter is it? \")\n",
        "  min = input(\"How many minutes are left in the quarter? \")\n",
        "  sec = input(\"How many seconds are left? \")\n",
        "  down = input(\"What down is it? \")\n",
        "  ytg = input(\"How many yards to a first down? \")\n",
        "  yl = input(\"Where is the ball (yds from the goal line, 0-100)? \")\n",
        "\n",
        "\n",
        "  team_dict = {\"ARI\": 1, \"ATL\": 2, \"BAL\": 3, \"BUF\": 4, \"CAR\": 5, \"CHI\": 6,\n",
        "              \"CHI\": 6, \"CIN\": 7, \"CLE\": 8, \"DAL\": 9, \"DEN\": 10, \"DET\": 11,\n",
        "              \"GB\": 12, \"HOU\": 13, \"IND\": 14, \"JAX\": 15, \"KC\": 16, \"LV\": 17,\n",
        "              \"LAC\": 18, \"LA\": 19, \"MIA\": 20, \"MIN\": 21, \"NE\": 22, \"NO\": 23,\n",
        "              \"NYG\": 24, \"NYJ\": 25, \"PHI\": 26, \"PIT\": 27, \"SF\": 28, \"SEA\": 29,\n",
        "              \"TB\": 30, \"TEN\": 31, \"WAS\": 32, \"OAK\": 17, \"SD\": 18, \"STL\": 19\n",
        "              }\n",
        "\n",
        "  offense_text = input(\"What team is on offense? (ex: LAC, TB) \")\n",
        "  offense = team_dict[offense_text]\n",
        "  defense_text = input(\"What team is on defense? (ex: SF, TEN) \")\n",
        "  defense = team_dict[defense_text]\n",
        "\n",
        "  print(\"\\nThinking...\")\n",
        "  play_prediction = clf.predict([[year, qtr, min, sec, down, ytg, yl, offense, defense]])\n",
        "  if play_prediction == 1:\n",
        "    play_prediction_string = \"Rush\"\n",
        "  elif play_prediction == 2:\n",
        "    play_prediction_string = \"Pass\"\n",
        "  elif play_prediction == 3:\n",
        "    play_prediction_string = \"Special\"\n",
        "  elif play_prediction == 4:\n",
        "    play_prediction_string = \"No Play\"\n",
        "\n",
        "  print(f\"\\nPrediction: {offense_text} {play_prediction_string}\")\n",
        "\n",
        "play_predictor()\n",
        "\n",
        "go_again = input(\"\\nWould you like to play again? (y/n) \")\n",
        "while go_again == \"y\":\n",
        "  play_predictor()\n",
        "  go_again = input(\"\\nWould you like to play again? (y/n) \")"
      ]
    }
  ]
}