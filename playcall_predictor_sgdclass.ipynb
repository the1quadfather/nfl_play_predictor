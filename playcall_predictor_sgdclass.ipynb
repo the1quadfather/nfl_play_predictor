{
  "nbformat": 4,
  "nbformat_minor": 0,
  "metadata": {
    "colab": {
      "provenance": [],
      "gpuType": "T4",
      "authorship_tag": "ABX9TyP3EOpvrod/pSALdSgScSsK",
      "include_colab_link": true
    },
    "kernelspec": {
      "name": "python3",
      "display_name": "Python 3"
    },
    "language_info": {
      "name": "python"
    },
    "accelerator": "GPU"
  },
  "cells": [
    {
      "cell_type": "markdown",
      "metadata": {
        "id": "view-in-github",
        "colab_type": "text"
      },
      "source": [
        "<a href=\"https://colab.research.google.com/github/the1quadfather/nfl_play_predictor/blob/main/playcall_predictor_sgdclass.ipynb\" target=\"_parent\"><img src=\"https://colab.research.google.com/assets/colab-badge.svg\" alt=\"Open In Colab\"/></a>"
      ]
    },
    {
      "cell_type": "code",
      "execution_count": 7,
      "metadata": {
        "colab": {
          "base_uri": "https://localhost:8080/"
        },
        "id": "gjGPnh_9nLbM",
        "outputId": "95bbb3d6-2918-46e2-bbac-08a168698d7c"
      },
      "outputs": [
        {
          "output_type": "stream",
          "name": "stdout",
          "text": [
            "Drive already mounted at /content/drive; to attempt to forcibly remount, call drive.mount(\"/content/drive\", force_remount=True).\n",
            "Importing files...\n",
            "Import complete!\n"
          ]
        }
      ],
      "source": [
        "# NFL Playcall Predictor\n",
        "# Based on down, yard line, yards-to-go, time, quarter, score differential, predict whether the next play is\n",
        "# a run or a pass\n",
        "# Play-by-play data: 2013-2023, NFLSavant.com\n",
        "\n",
        "\n",
        "import pandas as pd\n",
        "import numpy as np\n",
        "from sklearn.metrics import accuracy_score\n",
        "\n",
        "from google.colab import drive\n",
        "drive.mount('/content/drive')\n",
        "\n",
        "# PBP CSV data import\n",
        "print('Importing files...')\n",
        "#file_path = '/content/drive/MyDrive/Schraeder Management/Product Dev/NFL Play Predictor/NFL_PBP_combined_playground_csv_no2020.csv'\n",
        "file_path = '/content/drive/MyDrive/Schraeder Management/Product Dev/NFL Play Predictor/2023.csv'\n",
        "# Marginal improvement (1%) when evaluating a single year compared to all years\n",
        "df_x = pd.read_csv(file_path, usecols=[\"SeasonYear\", \"Quarter\", \"Minute\",\n",
        "                                                                   \"Second\", \"Down\", \"ToGo\", \"YardLine\", \"OFF\", \"DEF\"])\n",
        "df_x.head()\n",
        "df_y = pd.read_csv(file_path, usecols=[\"Rush/Pass/Special\"])\n",
        "\n",
        "df_x.dropna(inplace=True)\n",
        "df_y.dropna(inplace=True) # Remember that inplace edits the current data file, it doesn't create an edited copy\n",
        "\n",
        "print('Import complete!')"
      ]
    },
    {
      "cell_type": "code",
      "source": [
        "# Perform multi-class classification using SGD Classifier\n",
        "from sklearn.pipeline import make_pipeline, Pipeline\n",
        "from sklearn.preprocessing import StandardScaler\n",
        "from sklearn.model_selection import train_test_split\n",
        "X = df_x\n",
        "Y = np.ravel(df_y)\n",
        "\n",
        "X_train, X_test, y_train, y_test = train_test_split(X, Y, test_size=0.2, random_state=42)\n",
        "print('Data pipeline complete.')"
      ],
      "metadata": {
        "colab": {
          "base_uri": "https://localhost:8080/"
        },
        "id": "v5ETiYFVnT_K",
        "outputId": "5ffa24f1-cf38-4c77-aa97-a55372496d46"
      },
      "execution_count": 8,
      "outputs": [
        {
          "output_type": "stream",
          "name": "stdout",
          "text": [
            "Data pipeline complete.\n"
          ]
        }
      ]
    },
    {
      "cell_type": "code",
      "source": [
        "from sklearn.linear_model import SGDClassifier\n",
        "clf = make_pipeline(StandardScaler(),\n",
        "                    SGDClassifier(max_iter=1000, tol=1e-3))\n",
        "clf.fit(X_train, y_train)\n",
        "print('Training complete!')"
      ],
      "metadata": {
        "colab": {
          "base_uri": "https://localhost:8080/"
        },
        "id": "Ujg-hPZYqsZN",
        "outputId": "6befb67f-5fd1-47b8-aa50-58075e0c1549"
      },
      "execution_count": 9,
      "outputs": [
        {
          "output_type": "stream",
          "name": "stdout",
          "text": [
            "Training complete!\n"
          ]
        }
      ]
    },
    {
      "cell_type": "code",
      "source": [
        "y_pred = clf.predict(X_test)\n",
        "# Evaluate model performance\n",
        "accuracy = accuracy_score(y_test, y_pred)\n",
        "print(f'Accuracy: {accuracy:.2f}')"
      ],
      "metadata": {
        "colab": {
          "base_uri": "https://localhost:8080/"
        },
        "id": "set5xoYVq6xd",
        "outputId": "323c7e2f-537f-4345-cbf8-c6faa67d6877"
      },
      "execution_count": 10,
      "outputs": [
        {
          "output_type": "stream",
          "name": "stdout",
          "text": [
            "Accuracy: 0.65\n"
          ]
        }
      ]
    },
    {
      "cell_type": "code",
      "source": [
        "print(\"Your turn!\")\n",
        "year = 2023\n",
        "qtr = input(\"What Quarter is it? \")\n",
        "min = input(\"How many minutes are left in the quarter? \")\n",
        "sec = input(\"How many seconds are left? \")\n",
        "down = input(\"What down is it? \")\n",
        "ytg = input(\"How many yards to a first down? \")\n",
        "yl = input(\"Where is the ball (yds from the goal line, 0-100)? \")\n",
        "\n",
        "\n",
        "team_dict = {\"ARI\": 1, \"ATL\": 2, \"BAL\": 3, \"BUF\": 4, \"CAR\": 5, \"CHI\": 6,\n",
        "             \"CHI\": 6, \"CIN\": 7, \"CLE\": 8, \"DAL\": 9, \"DEN\": 10, \"DET\": 11,\n",
        "             \"GB\": 12, \"HOU\": 13, \"IND\": 14, \"JAX\": 15, \"KC\": 16, \"LV\": 17,\n",
        "             \"LAC\": 18, \"LA\": 19, \"MIA\": 20, \"MIN\": 21, \"NE\": 22, \"NO\": 23,\n",
        "             \"NYG\": 24, \"NYJ\": 25, \"PHI\": 26, \"PIT\": 27, \"SF\": 28, \"SEA\": 29,\n",
        "             \"TB\": 30, \"TEN\": 31, \"WAS\": 32, \"OAK\": 17, \"SD\": 18, \"STL\": 19\n",
        "             }\n",
        "\n",
        "offense_text = input(\"What team is on offense? (ex: LAC, TB) \")\n",
        "offense = team_dict[offense_text]\n",
        "defense_text = input(\"What team is on defense? (ex: SF, TEN) \")\n",
        "defense = team_dict[defense_text]\n",
        "\n",
        "print(\"Thinking...\")\n",
        "play_prediction = clf.predict([[year, qtr, min, sec, down, ytg, yl, offense, defense]])\n",
        "if play_prediction == 1:\n",
        "  play_prediction_string = \"Rush\"\n",
        "elif play_prediction == 2:\n",
        "  play_prediction_string = \"Pass\"\n",
        "elif play_prediction == 3:\n",
        "  play_prediction_string = \"Special\"\n",
        "elif play_prediction == 4:\n",
        "  play_prediction_string = \"No Play\"\n",
        "\n",
        "print(f\"Prediction: {offense_text} {play_prediction_string}\")"
      ],
      "metadata": {
        "colab": {
          "base_uri": "https://localhost:8080/"
        },
        "id": "BUklE1eA7PJC",
        "outputId": "52947d13-5090-4e03-ef28-8ed0bab3a61c"
      },
      "execution_count": 13,
      "outputs": [
        {
          "output_type": "stream",
          "name": "stdout",
          "text": [
            "Your turn!\n",
            "What Quarter is it? 1\n",
            "How many minutes are left in the quarter? 5\n",
            "How many seconds are left? 1\n",
            "What down is it? 1\n",
            "How many yards to a first down? 5\n",
            "Where is the ball (yds from the goal line, 0-100)? 51\n",
            "What team is on offense? (ex: LAC, TB) TEN\n",
            "What team is on defense? (ex: SF, TEN) SF\n",
            "Thinking...\n",
            "Prediction: TEN Pass\n"
          ]
        },
        {
          "output_type": "stream",
          "name": "stderr",
          "text": [
            "/usr/local/lib/python3.10/dist-packages/sklearn/base.py:465: UserWarning: X does not have valid feature names, but StandardScaler was fitted with feature names\n",
            "  warnings.warn(\n"
          ]
        }
      ]
    }
  ]
}