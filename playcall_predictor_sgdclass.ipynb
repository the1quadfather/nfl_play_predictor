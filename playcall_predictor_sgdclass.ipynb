{
  "nbformat": 4,
  "nbformat_minor": 0,
  "metadata": {
    "colab": {
      "provenance": [],
      "gpuType": "T4",
      "authorship_tag": "ABX9TyMghTrd1q6A8aD3AEGhhYaM"
    },
    "kernelspec": {
      "name": "python3",
      "display_name": "Python 3"
    },
    "language_info": {
      "name": "python"
    },
    "accelerator": "GPU"
  },
  "cells": [
    {
      "cell_type": "code",
      "execution_count": 23,
      "metadata": {
        "colab": {
          "base_uri": "https://localhost:8080/"
        },
        "id": "gjGPnh_9nLbM",
        "outputId": "ced029d8-1b86-45f9-864e-33315e5928e0"
      },
      "outputs": [
        {
          "output_type": "stream",
          "name": "stdout",
          "text": [
            "Drive already mounted at /content/drive; to attempt to forcibly remount, call drive.mount(\"/content/drive\", force_remount=True).\n",
            "Importing files...\n",
            "Import complete!\n"
          ]
        }
      ],
      "source": [
        "# NFL Playcall Predictor\n",
        "# Based on down, yard line, yards-to-go, time, quarter, score differential, predict whether the next play is\n",
        "# a run or a pass\n",
        "# Play-by-play data: 2013-2023, NFLSavant.com\n",
        "\n",
        "\n",
        "import pandas as pd\n",
        "import numpy as np\n",
        "from sklearn.metrics import accuracy_score\n",
        "\n",
        "# Uncomment if using colab to mount Google Drive\n",
        "#from google.colab import drive\n",
        "#drive.mount('/content/drive')\n",
        "\n",
        "# PBP CSV data import\n",
        "print('Importing files...')\n",
        "file_path = 'path to csv file here'\n",
        "# Marginal improvement (1%) when evaluating a single year compared to all years\n",
        "df_x = pd.read_csv(file_path, usecols=[\"SeasonYear\", \"Quarter\", \"Minute\",\n",
        "                                                                   \"Second\", \"Down\", \"ToGo\", \"YardLine\", \"OFF\", \"DEF\"])\n",
        "df_x.head()\n",
        "df_y = pd.read_csv(file_path, usecols=[\"Rush/Pass/Special\"])\n",
        "\n",
        "df_x.dropna(inplace=True)\n",
        "df_y.dropna(inplace=True) # Remember that inplace edits the current data file, it doesn't create an edited copy\n",
        "\n",
        "print('Import complete!')"
      ]
    },
    {
      "cell_type": "code",
      "source": [
        "# Perform multi-class classification using SGD Classifier\n",
        "from sklearn.pipeline import make_pipeline, Pipeline\n",
        "from sklearn.preprocessing import StandardScaler\n",
        "from sklearn.model_selection import train_test_split\n",
        "X = df_x\n",
        "Y = np.ravel(df_y)\n",
        "\n",
        "X_train, X_test, y_train, y_test = train_test_split(X, Y, test_size=0.2, random_state=42)\n",
        "print('Data pipeline complete.')"
      ],
      "metadata": {
        "colab": {
          "base_uri": "https://localhost:8080/"
        },
        "id": "v5ETiYFVnT_K",
        "outputId": "431a979a-eb05-4a00-e611-e2720429a264"
      },
      "execution_count": 24,
      "outputs": [
        {
          "output_type": "stream",
          "name": "stdout",
          "text": [
            "Data pipeline complete.\n"
          ]
        }
      ]
    },
    {
      "cell_type": "code",
      "source": [
        "from sklearn.linear_model import SGDClassifier\n",
        "clf = make_pipeline(StandardScaler(),\n",
        "                    SGDClassifier(max_iter=1000, tol=1e-3))\n",
        "clf.fit(X_train, y_train)\n",
        "print('Training complete!')"
      ],
      "metadata": {
        "colab": {
          "base_uri": "https://localhost:8080/"
        },
        "id": "Ujg-hPZYqsZN",
        "outputId": "fa2c0a79-bb84-41c0-d0e9-ba70e9d8eb1b"
      },
      "execution_count": 25,
      "outputs": [
        {
          "output_type": "stream",
          "name": "stdout",
          "text": [
            "Training complete!\n"
          ]
        }
      ]
    },
    {
      "cell_type": "code",
      "source": [
        "y_pred = clf.predict(X_test)\n",
        "# Evaluate model performance\n",
        "accuracy = accuracy_score(y_test, y_pred)\n",
        "print(f'Accuracy: {accuracy:.2f}')"
      ],
      "metadata": {
        "colab": {
          "base_uri": "https://localhost:8080/"
        },
        "id": "set5xoYVq6xd",
        "outputId": "7a4d7273-7cd2-4260-db99-0c26237c014c"
      },
      "execution_count": 28,
      "outputs": [
        {
          "output_type": "stream",
          "name": "stdout",
          "text": [
            "Accuracy: 0.64\n"
          ]
        }
      ]
    }
  ]
}
